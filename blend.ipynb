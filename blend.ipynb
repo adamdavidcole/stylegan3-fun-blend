{
  "cells": [
    {
      "cell_type": "markdown",
      "metadata": {
        "id": "yNa9-V2DuPXG"
      },
      "source": [
        "### Network Blending Experiment"
      ]
    },
    {
      "cell_type": "code",
      "execution_count": 1,
      "metadata": {
        "colab": {
          "base_uri": "https://localhost:8080/"
        },
        "id": "bYYAP__CuPXH",
        "outputId": "cd56bb3a-1634-4d47-a26e-2a48d4efd973"
      },
      "outputs": [
        {
          "output_type": "stream",
          "name": "stdout",
          "text": [
            "Hello world\n"
          ]
        }
      ],
      "source": [
        "print(\"Hello world\")"
      ]
    },
    {
      "cell_type": "code",
      "source": [
        "print(\"syncing?\")"
      ],
      "metadata": {
        "colab": {
          "base_uri": "https://localhost:8080/"
        },
        "id": "3H630tA6uRLo",
        "outputId": "38dc345d-b053-4686-8972-fdb4a8553b17"
      },
      "execution_count": 2,
      "outputs": [
        {
          "output_type": "stream",
          "name": "stdout",
          "text": [
            "syncing?\n"
          ]
        }
      ]
    }
  ],
  "metadata": {
    "interpreter": {
      "hash": "a8b6964c4b11971ada34c31ca3858cac76f4677604ed4191f9e9f62d73997475"
    },
    "kernelspec": {
      "display_name": "Python 3.8.13 ('pytorch2')",
      "language": "python",
      "name": "python3"
    },
    "language_info": {
      "codemirror_mode": {
        "name": "ipython",
        "version": 3
      },
      "file_extension": ".py",
      "mimetype": "text/x-python",
      "name": "python",
      "nbconvert_exporter": "python",
      "pygments_lexer": "ipython3",
      "version": "3.8.13"
    },
    "orig_nbformat": 4,
    "colab": {
      "name": "blend.ipynb",
      "provenance": []
    }
  },
  "nbformat": 4,
  "nbformat_minor": 0
}