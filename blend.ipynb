{
  "cells": [
    {
      "cell_type": "markdown",
      "metadata": {
        "id": "yNa9-V2DuPXG"
      },
      "source": [
        "# Network Blending Experiment"
      ]
    },
    {
      "cell_type": "markdown",
      "source": [
        "## Setup Google Drive Connection"
      ],
      "metadata": {
        "id": "zNUlrgLAzMp9"
      }
    },
    {
      "cell_type": "code",
      "source": [
        "# Check GPU connection\n",
        "!nvidia-smi -L"
      ],
      "metadata": {
        "colab": {
          "base_uri": "https://localhost:8080/"
        },
        "id": "ReFjlT7CvqrF",
        "outputId": "c00b6b65-26cf-4f02-d552-a0ef4eb7b31a"
      },
      "execution_count": 1,
      "outputs": [
        {
          "output_type": "stream",
          "name": "stdout",
          "text": [
            "GPU 0: Tesla P100-PCIE-16GB (UUID: GPU-46ea0376-9f9e-07d0-1d6d-17380540b14b)\n"
          ]
        }
      ]
    },
    {
      "cell_type": "code",
      "source": [
        "# Connect Google Drive\n",
        "from google.colab import drive\n",
        "drive.mount('/content/drive')"
      ],
      "metadata": {
        "colab": {
          "base_uri": "https://localhost:8080/"
        },
        "id": "bXr8jWKVvq-E",
        "outputId": "3d288a7c-8285-43b9-dfd5-06e0676469fe"
      },
      "execution_count": 2,
      "outputs": [
        {
          "output_type": "stream",
          "name": "stdout",
          "text": [
            "Mounted at /content/drive\n"
          ]
        }
      ]
    },
    {
      "cell_type": "code",
      "source": [
        "import os\n",
        "!pip install gdown --upgrade\n",
        "\n",
        "if os.path.isdir(\"/content/drive/MyDrive/stylegan3-fun-blend\"):\n",
        "    %cd \"/content/drive/MyDrive/stylegan3-fun-blend\"\n",
        "elif os.path.isdir(\"/content/drive/\"):\n",
        "    #install script\n",
        "    %cd \"/content/drive/MyDrive/\"\n",
        "    !git clone https://github.com/adamdavidcole/stylegan3-fun-blend.git\n",
        "    %cd stylegan3-fun-blend\n",
        "    !mkdir downloads\n",
        "    !mkdir datasets\n",
        "    !mkdir pretrained\n",
        "    # !gdown --id 1-5xZkD8ajXw1DdopTkH_rAoCsD72LhKU -O /content/drive/MyDrive/colab-sg2-ada-pytorch/stylegan2-ada-pytorch/pretrained/wikiart.pkl\n",
        "else:\n",
        "    !git clone https://github.com/adamdavidcole/stylegan3-fun-blend.git\n",
        "    %cd stylegan3-fun-blend\n",
        "    !mkdir downloads\n",
        "    !mkdir datasets\n",
        "    !mkdir pretrained"
      ],
      "metadata": {
        "colab": {
          "base_uri": "https://localhost:8080/"
        },
        "id": "OMpqnKu7v5og",
        "outputId": "ad33328f-c888-4b14-f182-6ff97e03a989"
      },
      "execution_count": null,
      "outputs": [
        {
          "output_type": "stream",
          "name": "stdout",
          "text": [
            "Looking in indexes: https://pypi.org/simple, https://us-python.pkg.dev/colab-wheels/public/simple/\n",
            "Requirement already satisfied: gdown in /usr/local/lib/python3.7/dist-packages (4.4.0)\n",
            "Requirement already satisfied: requests[socks] in /usr/local/lib/python3.7/dist-packages (from gdown) (2.23.0)\n",
            "Requirement already satisfied: filelock in /usr/local/lib/python3.7/dist-packages (from gdown) (3.7.0)\n",
            "Requirement already satisfied: tqdm in /usr/local/lib/python3.7/dist-packages (from gdown) (4.64.0)\n",
            "Requirement already satisfied: beautifulsoup4 in /usr/local/lib/python3.7/dist-packages (from gdown) (4.6.3)\n",
            "Requirement already satisfied: six in /usr/local/lib/python3.7/dist-packages (from gdown) (1.15.0)\n",
            "Requirement already satisfied: chardet<4,>=3.0.2 in /usr/local/lib/python3.7/dist-packages (from requests[socks]->gdown) (3.0.4)\n",
            "Requirement already satisfied: idna<3,>=2.5 in /usr/local/lib/python3.7/dist-packages (from requests[socks]->gdown) (2.10)\n",
            "Requirement already satisfied: urllib3!=1.25.0,!=1.25.1,<1.26,>=1.21.1 in /usr/local/lib/python3.7/dist-packages (from requests[socks]->gdown) (1.24.3)\n",
            "Requirement already satisfied: certifi>=2017.4.17 in /usr/local/lib/python3.7/dist-packages (from requests[socks]->gdown) (2022.5.18.1)\n",
            "Requirement already satisfied: PySocks!=1.5.7,>=1.5.6 in /usr/local/lib/python3.7/dist-packages (from requests[socks]->gdown) (1.7.1)\n"
          ]
        }
      ]
    },
    {
      "cell_type": "code",
      "source": [
        "# Update all code files in drive repo \n",
        "!git config --global user.name \"test\"\n",
        "!git config --global user.email \"test@test.com\"\n",
        "!git fetch origin\n",
        "!git pull\n",
        "!git stash\n",
        "!git checkout origin/main -- \"*.py\" \n",
        "!git checkout origin/main -- \"*.ipynb\""
      ],
      "metadata": {
        "colab": {
          "base_uri": "https://localhost:8080/"
        },
        "id": "z2iq2jrmxUAY",
        "outputId": "59b3a38a-d186-4635-dd9e-a8114a3d4a14"
      },
      "execution_count": 5,
      "outputs": [
        {
          "output_type": "stream",
          "name": "stdout",
          "text": [
            "Already up to date.\n",
            "Saved working directory and index state WIP on main: 59cff72 drive+collab test3\n"
          ]
        }
      ]
    },
    {
      "cell_type": "code",
      "source": [
        "!pip install einops ninja gdown"
      ],
      "metadata": {
        "colab": {
          "base_uri": "https://localhost:8080/"
        },
        "id": "-dKoUIUz86ac",
        "outputId": "17c03ac7-086e-450f-d2b0-0c74fc5a57bc"
      },
      "execution_count": 5,
      "outputs": [
        {
          "output_type": "stream",
          "name": "stdout",
          "text": [
            "Looking in indexes: https://pypi.org/simple, https://us-python.pkg.dev/colab-wheels/public/simple/\n",
            "Collecting einops\n",
            "  Downloading einops-0.4.1-py3-none-any.whl (28 kB)\n",
            "Collecting ninja\n",
            "  Downloading ninja-1.10.2.3-py2.py3-none-manylinux_2_5_x86_64.manylinux1_x86_64.whl (108 kB)\n",
            "\u001b[K     |████████████████████████████████| 108 kB 23.5 MB/s \n",
            "\u001b[?25hRequirement already satisfied: gdown in /usr/local/lib/python3.7/dist-packages (4.4.0)\n",
            "Requirement already satisfied: requests[socks] in /usr/local/lib/python3.7/dist-packages (from gdown) (2.23.0)\n",
            "Requirement already satisfied: filelock in /usr/local/lib/python3.7/dist-packages (from gdown) (3.7.0)\n",
            "Requirement already satisfied: beautifulsoup4 in /usr/local/lib/python3.7/dist-packages (from gdown) (4.6.3)\n",
            "Requirement already satisfied: tqdm in /usr/local/lib/python3.7/dist-packages (from gdown) (4.64.0)\n",
            "Requirement already satisfied: six in /usr/local/lib/python3.7/dist-packages (from gdown) (1.15.0)\n",
            "Requirement already satisfied: idna<3,>=2.5 in /usr/local/lib/python3.7/dist-packages (from requests[socks]->gdown) (2.10)\n",
            "Requirement already satisfied: certifi>=2017.4.17 in /usr/local/lib/python3.7/dist-packages (from requests[socks]->gdown) (2022.5.18.1)\n",
            "Requirement already satisfied: urllib3!=1.25.0,!=1.25.1,<1.26,>=1.21.1 in /usr/local/lib/python3.7/dist-packages (from requests[socks]->gdown) (1.24.3)\n",
            "Requirement already satisfied: chardet<4,>=3.0.2 in /usr/local/lib/python3.7/dist-packages (from requests[socks]->gdown) (3.0.4)\n",
            "Requirement already satisfied: PySocks!=1.5.7,>=1.5.6 in /usr/local/lib/python3.7/dist-packages (from requests[socks]->gdown) (1.7.1)\n",
            "Installing collected packages: ninja, einops\n",
            "Successfully installed einops-0.4.1 ninja-1.10.2.3\n"
          ]
        }
      ]
    },
    {
      "cell_type": "code",
      "source": [
        "import numpy as np\n",
        "from datetime import datetime"
      ],
      "metadata": {
        "id": "58xfSUxE66_W"
      },
      "execution_count": 6,
      "outputs": []
    },
    {
      "cell_type": "markdown",
      "source": [
        "## Network Setup"
      ],
      "metadata": {
        "id": "P5NZDdiT8FNa"
      }
    },
    {
      "cell_type": "code",
      "source": [
        "network_key = \"butterfly\"\n",
        "cfg=\"stylegan3-t\"\n",
        "pretrained_network = \"ffhqu256\"\n",
        "dataset = \"/content/drive/MyDrive/stylegan3/datasets/butterflys_256_2-256x256.zip\"\n",
        "\n",
        "results_outdir = f\"./results/{network_key}\"\n",
        "\n",
        "if not os.path.isdir(results_outdir):\n",
        "    !mkdir -p $results_outdir"
      ],
      "metadata": {
        "id": "33igFzDL8Hp5"
      },
      "execution_count": 8,
      "outputs": []
    },
    {
      "cell_type": "markdown",
      "source": [
        "## Training"
      ],
      "metadata": {
        "id": "dsoohbv60UPu"
      }
    },
    {
      "cell_type": "code",
      "source": [
        "!python train.py --outdir=$outdir --cfg=$cfg --data=$dataset \\\n",
        "    --gpus=1 --batch=32 --batch-gpu=16  --gamma=6.6 --mirror=1 --kimg=50 --snap=1 --tick=1 --img-snap=1 --cbase=16384 \\\n",
        "    --resume=ffhqu256"
      ],
      "metadata": {
        "id": "6oN1Lw-R9GBT"
      },
      "execution_count": null,
      "outputs": []
    },
    {
      "cell_type": "markdown",
      "source": [
        "## Projection"
      ],
      "metadata": {
        "id": "CHXnE2IO7lkJ"
      }
    },
    {
      "cell_type": "code",
      "source": [
        "projection_source_images_outdir = \"projection_source_images\"\n",
        "projection_source_vectors_outdir = \"projection_source_vectors\"\n"
      ],
      "metadata": {
        "id": "YM7U4UlGuIF_"
      },
      "execution_count": 34,
      "outputs": []
    },
    {
      "cell_type": "code",
      "source": [
        "# Upload File \n",
        "if not os.path.isdir(projection_source_images_outdir):\n",
        "  !mkdir -p $projection_source_images_outdir\n",
        "\n",
        "def upload_files():\n",
        "  filepaths = []\n",
        "  from google.colab import files\n",
        "  uploaded = files.upload()\n",
        "  for k, v in uploaded.items():\n",
        "    filepath = f\"{projection_source_images_outdir}/{k}\"\n",
        "    open(filepath, 'wb').write(v)\n",
        "    filepaths.append(filepath)\n",
        "  return list(filepaths)\n",
        "\n",
        "uploaded = upload_files();\n",
        "print(uploaded)"
      ],
      "metadata": {
        "colab": {
          "resources": {
            "http://localhost:8080/nbextensions/google.colab/files.js": {
              "data": "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",
              "ok": true,
              "headers": [
                [
                  "content-type",
                  "application/javascript"
                ]
              ],
              "status": 200,
              "status_text": ""
            }
          },
          "base_uri": "https://localhost:8080/",
          "height": 92
        },
        "id": "OfZ0Sc3EM97W",
        "outputId": "119898da-16c1-4c6d-ad4f-91e990c6cb5f"
      },
      "execution_count": 17,
      "outputs": [
        {
          "output_type": "display_data",
          "data": {
            "text/plain": [
              "<IPython.core.display.HTML object>"
            ],
            "text/html": [
              "\n",
              "     <input type=\"file\" id=\"files-6afd0d42-e8ed-41be-ad53-f3776be203d8\" name=\"files[]\" multiple disabled\n",
              "        style=\"border:none\" />\n",
              "     <output id=\"result-6afd0d42-e8ed-41be-ad53-f3776be203d8\">\n",
              "      Upload widget is only available when the cell has been executed in the\n",
              "      current browser session. Please rerun this cell to enable.\n",
              "      </output>\n",
              "      <script src=\"/nbextensions/google.colab/files.js\"></script> "
            ]
          },
          "metadata": {}
        },
        {
          "output_type": "stream",
          "name": "stdout",
          "text": [
            "Saving fakes_init_01.png to fakes_init_01.png\n",
            "['projection_source_images/fakes_init_01.png']\n"
          ]
        }
      ]
    },
    {
      "cell_type": "code",
      "source": [
        "# Project Image\n",
        "# uploaded_file = uploaded[0]\n",
        "uploaded_file=\"/content/drive/MyDrive/stylegan3-fun-blend/results/butterfly/gen_images/seed0000.png\"\n",
        "uploaded_file_name = uploaded_file.split('/')[-1].split('.')[0:-1]\n",
        "uploaded_file_name = ''.join(uploaded_file_name)\n",
        "print(uploaded_file)\n",
        "\n",
        "!python projector.py --outdir=$projection_source_vectors_outdir --target=$uploaded_file --project-in-wplus --num-steps=5000 --stabilize-projection \\\n",
        "       --cfg=stylegan3-r --network=ffhqu256"
      ],
      "metadata": {
        "id": "cS78XvhaOzWN"
      },
      "execution_count": null,
      "outputs": []
    },
    {
      "cell_type": "markdown",
      "source": [
        "## Generation"
      ],
      "metadata": {
        "id": "5I7fzlAR7qfp"
      }
    },
    {
      "cell_type": "code",
      "source": [
        "most_recent_training_result = os.listdir(results_outdir)[-1]\n",
        "print(most_recent_training_result)\n",
        "\n",
        "path_to_most_recent_training_result = f\"{results_outdir}/{most_recent_training_result}\"\n",
        "training_checkpoints = [f\"{path_to_most_recent_training_result}/{f}\" for f in os.listdir(path_to_most_recent_training_result) if f.endswith('.pkl')]\n",
        "print(training_checkpoints)\n"
      ],
      "metadata": {
        "colab": {
          "base_uri": "https://localhost:8080/"
        },
        "id": "q3qW_Mgh_X1L",
        "outputId": "a7648de1-6bc3-44fb-fb3d-8b005b4c98fe"
      },
      "execution_count": 9,
      "outputs": [
        {
          "output_type": "stream",
          "name": "stdout",
          "text": [
            "00005-stylegan3-r-butterflys_256_2-256x256-gpus1-batch32-gamma6.6-resume_ffhqu256\n",
            "['./results/butterfly/00005-stylegan3-r-butterflys_256_2-256x256-gpus1-batch32-gamma6.6-resume_ffhqu256/network-snapshot-000000.pkl', './results/butterfly/00005-stylegan3-r-butterflys_256_2-256x256-gpus1-batch32-gamma6.6-resume_ffhqu256/network-snapshot-000001.pkl', './results/butterfly/00005-stylegan3-r-butterflys_256_2-256x256-gpus1-batch32-gamma6.6-resume_ffhqu256/network-snapshot-000002.pkl', './results/butterfly/00005-stylegan3-r-butterflys_256_2-256x256-gpus1-batch32-gamma6.6-resume_ffhqu256/network-snapshot-000003.pkl', './results/butterfly/00005-stylegan3-r-butterflys_256_2-256x256-gpus1-batch32-gamma6.6-resume_ffhqu256/network-snapshot-000004.pkl', './results/butterfly/00005-stylegan3-r-butterflys_256_2-256x256-gpus1-batch32-gamma6.6-resume_ffhqu256/network-snapshot-000005.pkl', './results/butterfly/00005-stylegan3-r-butterflys_256_2-256x256-gpus1-batch32-gamma6.6-resume_ffhqu256/network-snapshot-000006.pkl', './results/butterfly/00005-stylegan3-r-butterflys_256_2-256x256-gpus1-batch32-gamma6.6-resume_ffhqu256/network-snapshot-000007.pkl', './results/butterfly/00005-stylegan3-r-butterflys_256_2-256x256-gpus1-batch32-gamma6.6-resume_ffhqu256/network-snapshot-000008.pkl', './results/butterfly/00005-stylegan3-r-butterflys_256_2-256x256-gpus1-batch32-gamma6.6-resume_ffhqu256/network-snapshot-000009.pkl', './results/butterfly/00005-stylegan3-r-butterflys_256_2-256x256-gpus1-batch32-gamma6.6-resume_ffhqu256/network-snapshot-000010.pkl', './results/butterfly/00005-stylegan3-r-butterflys_256_2-256x256-gpus1-batch32-gamma6.6-resume_ffhqu256/network-snapshot-000011.pkl', './results/butterfly/00005-stylegan3-r-butterflys_256_2-256x256-gpus1-batch32-gamma6.6-resume_ffhqu256/network-snapshot-000012.pkl', './results/butterfly/00005-stylegan3-r-butterflys_256_2-256x256-gpus1-batch32-gamma6.6-resume_ffhqu256/network-snapshot-000013.pkl', './results/butterfly/00005-stylegan3-r-butterflys_256_2-256x256-gpus1-batch32-gamma6.6-resume_ffhqu256/network-snapshot-000014.pkl', './results/butterfly/00005-stylegan3-r-butterflys_256_2-256x256-gpus1-batch32-gamma6.6-resume_ffhqu256/network-snapshot-000015.pkl', './results/butterfly/00005-stylegan3-r-butterflys_256_2-256x256-gpus1-batch32-gamma6.6-resume_ffhqu256/network-snapshot-000016.pkl', './results/butterfly/00005-stylegan3-r-butterflys_256_2-256x256-gpus1-batch32-gamma6.6-resume_ffhqu256/network-snapshot-000017.pkl', './results/butterfly/00005-stylegan3-r-butterflys_256_2-256x256-gpus1-batch32-gamma6.6-resume_ffhqu256/network-snapshot-000018.pkl', './results/butterfly/00005-stylegan3-r-butterflys_256_2-256x256-gpus1-batch32-gamma6.6-resume_ffhqu256/network-snapshot-000019.pkl', './results/butterfly/00005-stylegan3-r-butterflys_256_2-256x256-gpus1-batch32-gamma6.6-resume_ffhqu256/network-snapshot-000020.pkl', './results/butterfly/00005-stylegan3-r-butterflys_256_2-256x256-gpus1-batch32-gamma6.6-resume_ffhqu256/network-snapshot-000021.pkl', './results/butterfly/00005-stylegan3-r-butterflys_256_2-256x256-gpus1-batch32-gamma6.6-resume_ffhqu256/network-snapshot-000022.pkl', './results/butterfly/00005-stylegan3-r-butterflys_256_2-256x256-gpus1-batch32-gamma6.6-resume_ffhqu256/network-snapshot-000023.pkl', './results/butterfly/00005-stylegan3-r-butterflys_256_2-256x256-gpus1-batch32-gamma6.6-resume_ffhqu256/network-snapshot-000024.pkl', './results/butterfly/00005-stylegan3-r-butterflys_256_2-256x256-gpus1-batch32-gamma6.6-resume_ffhqu256/network-snapshot-000025.pkl', './results/butterfly/00005-stylegan3-r-butterflys_256_2-256x256-gpus1-batch32-gamma6.6-resume_ffhqu256/network-snapshot-000026.pkl', './results/butterfly/00005-stylegan3-r-butterflys_256_2-256x256-gpus1-batch32-gamma6.6-resume_ffhqu256/network-snapshot-000027.pkl', './results/butterfly/00005-stylegan3-r-butterflys_256_2-256x256-gpus1-batch32-gamma6.6-resume_ffhqu256/network-snapshot-000028.pkl', './results/butterfly/00005-stylegan3-r-butterflys_256_2-256x256-gpus1-batch32-gamma6.6-resume_ffhqu256/network-snapshot-000029.pkl', './results/butterfly/00005-stylegan3-r-butterflys_256_2-256x256-gpus1-batch32-gamma6.6-resume_ffhqu256/network-snapshot-000030.pkl', './results/butterfly/00005-stylegan3-r-butterflys_256_2-256x256-gpus1-batch32-gamma6.6-resume_ffhqu256/network-snapshot-000031.pkl', './results/butterfly/00005-stylegan3-r-butterflys_256_2-256x256-gpus1-batch32-gamma6.6-resume_ffhqu256/network-snapshot-000032.pkl', './results/butterfly/00005-stylegan3-r-butterflys_256_2-256x256-gpus1-batch32-gamma6.6-resume_ffhqu256/network-snapshot-000033.pkl', './results/butterfly/00005-stylegan3-r-butterflys_256_2-256x256-gpus1-batch32-gamma6.6-resume_ffhqu256/network-snapshot-000034.pkl', './results/butterfly/00005-stylegan3-r-butterflys_256_2-256x256-gpus1-batch32-gamma6.6-resume_ffhqu256/network-snapshot-000035.pkl', './results/butterfly/00005-stylegan3-r-butterflys_256_2-256x256-gpus1-batch32-gamma6.6-resume_ffhqu256/network-snapshot-000036.pkl', './results/butterfly/00005-stylegan3-r-butterflys_256_2-256x256-gpus1-batch32-gamma6.6-resume_ffhqu256/network-snapshot-000037.pkl', './results/butterfly/00005-stylegan3-r-butterflys_256_2-256x256-gpus1-batch32-gamma6.6-resume_ffhqu256/network-snapshot-000038.pkl', './results/butterfly/00005-stylegan3-r-butterflys_256_2-256x256-gpus1-batch32-gamma6.6-resume_ffhqu256/network-snapshot-000039.pkl', './results/butterfly/00005-stylegan3-r-butterflys_256_2-256x256-gpus1-batch32-gamma6.6-resume_ffhqu256/network-snapshot-000040.pkl', './results/butterfly/00005-stylegan3-r-butterflys_256_2-256x256-gpus1-batch32-gamma6.6-resume_ffhqu256/network-snapshot-000042.pkl', './results/butterfly/00005-stylegan3-r-butterflys_256_2-256x256-gpus1-batch32-gamma6.6-resume_ffhqu256/network-snapshot-000043.pkl', './results/butterfly/00005-stylegan3-r-butterflys_256_2-256x256-gpus1-batch32-gamma6.6-resume_ffhqu256/network-snapshot-000044.pkl', './results/butterfly/00005-stylegan3-r-butterflys_256_2-256x256-gpus1-batch32-gamma6.6-resume_ffhqu256/network-snapshot-000045.pkl']\n"
          ]
        }
      ]
    },
    {
      "cell_type": "code",
      "source": [
        "projected_w_path = f\"{projection_source_vectors_outdir}/00001-projection-w-wavgstart-sgan2/projected_wavg_final.npy\"\n",
        "result_name=\"test_result\"\n",
        "# projection_network_pkl = gen_utils.resume_specs[\"stylegan3-r\"][\"ffhqu256\"];\n",
        "# projection_network_pkl = \n",
        "\n",
        "projection_outdir=f\"{results_outdir}/projections/{uploaded_file_name}\"\n",
        "\n",
        "print(projection_outdir)\n",
        "\n",
        "if not os.path.isdir(projection_outdir):\n",
        "  !mkdir -p $projection_outdir"
      ],
      "metadata": {
        "colab": {
          "base_uri": "https://localhost:8080/"
        },
        "id": "KO6SoYj_6BN6",
        "outputId": "e7d9cd72-4a20-4efc-c1e4-c6313a492445"
      },
      "execution_count": 39,
      "outputs": [
        {
          "output_type": "stream",
          "name": "stdout",
          "text": [
            "./results/butterfly/projections/fakes_init_01\n"
          ]
        }
      ]
    },
    {
      "cell_type": "code",
      "source": [
        "# Generate image from projection\n",
        "projected_w = np.load(projected_w_path)\n",
        "print(projected_w.shape)"
      ],
      "metadata": {
        "colab": {
          "base_uri": "https://localhost:8080/"
        },
        "id": "NQJZ0q6OO1-8",
        "outputId": "8eb68a44-f114-463d-acc1-7cb3a52ccbb4"
      },
      "execution_count": 40,
      "outputs": [
        {
          "output_type": "stream",
          "name": "stdout",
          "text": [
            "(1, 16, 512)\n"
          ]
        }
      ]
    },
    {
      "cell_type": "code",
      "source": [
        "# Generate N images across network blend\n",
        "import torch\n",
        "import dnnlib\n",
        "from dnnlib.util import format_time\n",
        "import legacy\n",
        "import PIL.Image\n",
        "\n",
        "from torch_utils import gen_utils\n",
        "\n",
        "\n",
        "# projection_network_pkl = gen_utils.resume_specs[\"stylegan3-r\"][\"ffhqu256\"]\n",
        "\n",
        "\n",
        "def gen_img_from_network(network_pkl_path):\n",
        "  network_pkl_name = network_pkl_path.split('/')[-1]\n",
        "  print('Loading networks from \"%s\"...' % network_pkl_path)\n",
        "  device = torch.device('cuda')\n",
        "  with dnnlib.util.open_url(network_pkl_path) as fp:\n",
        "      G = legacy.load_network_pkl(fp)['G_ema'].requires_grad_(False).to(device)\n",
        "\n",
        "  projected_w_tensor = torch.tensor(projected_w).to(device)\n",
        "  synth_image = gen_utils.w_to_img(G, dlatents=projected_w_tensor, noise_mode='const')[0]\n",
        "  PIL.Image.fromarray(synth_image, 'RGB').save(f'{projection_outdir}/{network_pkl_name}.jpg')\n",
        "\n",
        "for training_checkpoint in training_checkpoints:\n",
        "  gen_img_from_network(training_checkpoint)"
      ],
      "metadata": {
        "id": "YxiBj8ZuO59O"
      },
      "execution_count": null,
      "outputs": []
    },
    {
      "cell_type": "markdown",
      "source": [
        "## Debugging Image Generation\n",
        "\n",
        "My images dont look similar to the seeds so I'm investigating if there is a discrepency in my generation pipeline"
      ],
      "metadata": {
        "id": "js22OWCVqeNi"
      }
    },
    {
      "cell_type": "code",
      "source": [
        "generated_images_outdir = f\"{results_outdir}/gen_images\"\n",
        "# generated_images_network = gen_utils.resume_specs[\"stylegan3-r\"][\"ffhqu256\"];\n",
        "# network_name = \"stylegan3-r_ffhqu256\"\n",
        "\n",
        "generated_images_network = training_checkpoints[13];\n",
        "network_name = f\"{network_key}_{generated_images_network.split('/')[-1]}\""
      ],
      "metadata": {
        "id": "F3F-qswYq6VY"
      },
      "execution_count": 118,
      "outputs": []
    },
    {
      "cell_type": "code",
      "source": [
        "generated_images_version_count = len(os.listdir(generated_images_outdir))\n",
        "generated_images_version_count_padded = f'{generated_images_version_count:04}'\n",
        "generated_images_outdir_version = f\"{generated_images_outdir}/{generated_images_version_count_padded}_{network_name}\"\n",
        "print(f\"Outputting to {generated_images_outdir_version}\")\n",
        "\n",
        "!python gen_images.py --outdir=$generated_images_outdir_version --trunc=1 --seeds=0 --save_vectors=True \\\n",
        "        --network=$generated_images_network"
      ],
      "metadata": {
        "id": "XUPuf9zIqh4X"
      },
      "execution_count": null,
      "outputs": []
    },
    {
      "cell_type": "code",
      "source": [
        "from torch_utils import gen_utils\n",
        "\n",
        "def z_to_img(G, latents: torch.Tensor, label: torch.Tensor, truncation_psi: float, noise_mode: str = 'const') -> np.ndarray:\n",
        "    \"\"\"\n",
        "    Get an image/np.ndarray from a latent Z using G, the label, truncation_psi, and noise_mode. The shape\n",
        "    of the output image/np.ndarray will be [len(latents), G.img_resolution, G.img_resolution, G.img_channels]\n",
        "    \"\"\"\n",
        "    dlatents = gen_utils.z_to_dlatent(G=G, latents=latents, label=label, truncation_psi=truncation_psi)\n",
        "    dlatents = G.mapping.w_avg + (G.mapping.w_avg - dlatents) * truncation_psi\n",
        "    img = gen_utils.w_to_img(G=G, dlatents=dlatents, noise_mode=noise_mode)  # Let's not redo code\n",
        "    return img\n"
      ],
      "metadata": {
        "id": "WnzBBoUG7Am-"
      },
      "execution_count": 106,
      "outputs": []
    },
    {
      "cell_type": "code",
      "source": [
        "### Generate image from Z\n",
        "from torch_utils import gen_utils\n",
        "\n",
        "z_path = \"/content/drive/MyDrive/stylegan3-fun-blend/results/butterfly/gen_images/0005_stylegan3-r_ffhqu256/0000_z.npy\"\n",
        "\n",
        "def gen_img_from_network_and_z(network_pkl_path, z_file_path):\n",
        "  file_output_dir = f'{generated_images_outdir_version}/z_to_img2.jpg'\n",
        "\n",
        "  network_pkl_name = network_pkl_path.split('/')[-1]\n",
        "  print('Loading networks from \"%s\"...' % network_pkl_path)\n",
        "  device = torch.device('cuda')\n",
        "  with dnnlib.util.open_url(network_pkl_path) as fp:\n",
        "      G = legacy.load_network_pkl(fp)['G_ema'].requires_grad_(False).to(device)\n",
        "\n",
        "  z_np = np.load(z_file_path)[0]\n",
        "  z = torch.tensor(z_np).to(device)\n",
        "  label = torch.zeros([1, G.c_dim], device=device)\n",
        "\n",
        "  # These produce DIFFERENT results ?!?!?\n",
        "  # synth_image = z_to_img(G, latents=z, label=label, truncation_psi=1)[0]\n",
        "  # PIL.Image.fromarray(synth_image, 'RGB').save(file_output_dir)\n",
        "\n",
        "  img = G(z, label, truncation_psi=1, noise_mode=\"const\")\n",
        "  img = (img.permute(0, 2, 3, 1) * 127.5 + 128).clamp(0, 255).to(torch.uint8).cpu().numpy()\n",
        "  PIL.Image.fromarray(img[0], 'RGB').save(file_output_dir)\n",
        "\n",
        "\n",
        "  print(f\"Outputted file to {file_output_dir}\")\n",
        "gen_img_from_network_and_z(generated_images_network, z_path)"
      ],
      "metadata": {
        "id": "eWnM5q36zNYl",
        "outputId": "d5c5892b-fdb5-41ed-c3a6-2e171993a08a",
        "colab": {
          "base_uri": "https://localhost:8080/"
        }
      },
      "execution_count": 119,
      "outputs": [
        {
          "output_type": "stream",
          "name": "stdout",
          "text": [
            "Loading networks from \"./results/butterfly/00005-stylegan3-r-butterflys_256_2-256x256-gpus1-batch32-gamma6.6-resume_ffhqu256/network-snapshot-000013.pkl\"...\n",
            "tensor([[ 1.7641,  0.4002,  0.9787,  2.2409,  1.8676, -0.9773,  0.9501, -0.1514,\n",
            "         -0.1032,  0.4106,  0.1440,  1.4543,  0.7610,  0.1217,  0.4439,  0.3337,\n",
            "          1.4941, -0.2052,  0.3131, -0.8541, -2.5530,  0.6536,  0.8644, -0.7422,\n",
            "          2.2698, -1.4544,  0.0458, -0.1872,  1.5328,  1.4694,  0.1549,  0.3782,\n",
            "         -0.8878, -1.9808, -0.3479,  0.1563,  1.2303,  1.2024, -0.3873, -0.3023,\n",
            "         -1.0486, -1.4200, -1.7063,  1.9508, -0.5097, -0.4381, -1.2528,  0.7775,\n",
            "         -1.6139, -0.2127, -0.8955,  0.3869, -0.5108, -1.1806, -0.0282,  0.4283,\n",
            "          0.0665,  0.3025, -0.6343, -0.3627, -0.6725, -0.3596, -0.8131, -1.7263,\n",
            "          0.1774, -0.4018, -1.6302,  0.4628, -0.9073,  0.0519,  0.7291,  0.1290,\n",
            "          1.1394, -1.2348,  0.4023, -0.6848, -0.8708, -0.5788, -0.3116,  0.0562,\n",
            "         -1.1651,  0.9008,  0.4657, -1.5362,  1.4883,  1.8959,  1.1788, -0.1799,\n",
            "         -1.0708,  1.0545, -0.4032,  1.2224,  0.2083,  0.9766,  0.3564,  0.7066,\n",
            "          0.0105,  1.7859,  0.1269,  0.4020,  1.8832, -1.3478, -1.2705,  0.9694,\n",
            "         -1.1731,  1.9436, -0.4136, -0.7475,  1.9229,  1.4805,  1.8676,  0.9060,\n",
            "         -0.8612,  1.9101, -0.2680,  0.8025,  0.9473, -0.1550,  0.6141,  0.9222,\n",
            "          0.3764, -1.0994,  0.2982,  1.3264, -0.6946, -0.1496, -0.4352,  1.8493,\n",
            "          0.6723,  0.4075, -0.7699,  0.5392, -0.6743,  0.0318, -0.6358,  0.6764,\n",
            "          0.5766, -0.2083,  0.3960, -1.0931, -1.4913,  0.4394,  0.1667,  0.6350,\n",
            "          2.3831,  0.9445, -0.9128,  1.1170, -1.3159, -0.4616, -0.0682,  1.7133,\n",
            "         -0.7448, -0.8264, -0.0985, -0.6635,  1.1266, -1.0799, -1.1475, -0.4378,\n",
            "         -0.4980,  1.9295,  0.9494,  0.0876, -1.2254,  0.8444, -1.0002, -1.5448,\n",
            "          1.1880,  0.3169,  0.9209,  0.3187,  0.8568, -0.6510, -1.0342,  0.6816,\n",
            "         -0.8034, -0.6895, -0.4555,  0.0175, -0.3540, -1.3750, -0.6436, -2.2234,\n",
            "          0.6252, -1.6021, -1.1044,  0.0522, -0.7396,  1.5430, -1.2929,  0.2671,\n",
            "         -0.0393, -1.1681,  0.5233, -0.1715,  0.7718,  0.8235,  2.1632,  1.3365,\n",
            "         -0.3692, -0.2394,  1.0997,  0.6553,  0.6401, -1.6170, -0.0243, -0.7380,\n",
            "          0.2799, -0.0982,  0.9102,  0.3172,  0.7863, -0.4664, -0.9444, -0.4100,\n",
            "         -0.0170,  0.3792,  2.2593, -0.0423, -0.9559, -0.3460, -0.4636,  0.4815,\n",
            "         -1.5408,  0.0633,  0.1565,  0.2322, -0.5973, -0.2379, -1.4241, -0.4933,\n",
            "         -0.5429,  0.4161, -1.1562,  0.7812,  1.4945, -2.0700,  0.4263,  0.6769,\n",
            "         -0.6374, -0.3973, -0.1329, -0.2978, -0.3090, -1.6760,  1.1523,  1.0796,\n",
            "         -0.8134, -1.4664,  0.5211, -0.5758,  0.1420, -0.3193,  0.6915,  0.6947,\n",
            "         -0.7256, -1.3834, -1.5829,  0.6104, -1.1889, -0.5068, -0.5963, -0.0526,\n",
            "         -1.9363,  0.1888,  0.5239,  0.0884, -0.3109,  0.0974,  0.3990, -2.7726,\n",
            "          1.9559,  0.3901, -0.6524, -0.3910,  0.4937, -0.1161, -2.0307,  2.0645,\n",
            "         -0.1105,  1.0202, -0.6920,  1.5364,  0.2863,  0.6088, -1.0453,  1.2111,\n",
            "          0.6898,  1.3018, -0.6281, -0.4810,  2.3039, -1.0600, -0.1359,  1.1369,\n",
            "          0.0977,  0.5830, -0.3994,  0.3701, -1.3065,  1.6581, -0.1182, -0.6802,\n",
            "          0.6664, -0.4607, -1.3343, -1.3467,  0.6938, -0.1596, -0.1337,  1.0777,\n",
            "         -1.1268, -0.7307, -0.3849,  0.0944, -0.0422, -0.2869, -0.0616, -0.1073,\n",
            "         -0.7196, -0.8130,  0.2745, -0.8909, -1.1574, -0.3123, -0.1577,  2.2567,\n",
            "         -0.7047,  0.9433,  0.7472, -1.1889,  0.7733, -1.1839, -2.6592,  0.6063,\n",
            "         -1.7559,  0.4509, -0.6840,  1.6596,  1.0685, -0.4534, -0.6878, -1.2141,\n",
            "         -0.4409, -0.2804, -0.3647,  0.1567,  0.5785,  0.3497, -0.7641, -1.4378,\n",
            "          1.3645, -0.6894, -0.6523, -0.5212, -1.8431, -0.4780, -0.4797,  0.6204,\n",
            "          0.6985,  0.0038,  0.9318,  0.3400, -0.0157,  0.1609, -0.1907, -0.3948,\n",
            "         -0.2677, -1.1280,  0.2804, -0.9931,  0.8416, -0.2495,  0.0495,  0.4938,\n",
            "          0.6433, -1.5706, -0.2069,  0.8802, -1.6981,  0.3873, -2.2556, -1.0225,\n",
            "          0.0386, -1.6567, -0.9855, -1.4718,  1.6481,  0.1642,  0.5673, -0.2227,\n",
            "         -0.3534, -1.6165, -0.2918, -0.7615,  0.8579,  1.1411,  1.4666,  0.8526,\n",
            "         -0.5987, -1.1159,  0.7667,  0.3563, -1.7685,  0.3555,  0.8145,  0.0589,\n",
            "         -0.1851, -0.8076, -1.4465,  0.8003, -0.3091, -0.2335,  1.7327,  0.6845,\n",
            "          0.3708,  0.1421,  1.5200,  1.7196,  0.9295,  0.5822, -2.0946,  0.1237,\n",
            "         -0.1301,  0.0940,  0.9430, -2.7397, -0.5693,  0.2699, -0.4668, -1.4169,\n",
            "          0.8690,  0.2769, -0.9711,  0.3148,  0.8216,  0.0053,  0.8006,  0.0783,\n",
            "         -0.3952, -1.1594, -0.0859,  0.1943,  0.8758, -0.1151,  0.4574, -0.9646,\n",
            "         -0.7826, -0.1104, -1.0546,  0.8202,  0.4631,  0.2791,  0.3389,  2.0210,\n",
            "         -0.4689, -2.2014,  0.1993, -0.0506, -0.5175, -0.9788, -0.4392,  0.1813,\n",
            "         -0.5028,  2.4125, -0.9605, -0.7931, -2.2886,  0.2515, -2.0164, -0.5395,\n",
            "         -0.2757, -0.7097,  1.7389,  0.9944,  1.3191, -0.8824,  1.1286,  0.4960,\n",
            "          0.7714,  1.0294, -0.9088, -0.4243,  0.8626, -2.6556,  1.5133,  0.5531,\n",
            "         -0.0457,  0.2205, -1.0299, -0.3499,  1.1003,  1.2980,  2.6962, -0.0739,\n",
            "         -0.6586, -0.5142, -1.0180, -0.0779,  0.3827, -0.0342,  1.0963, -0.2342,\n",
            "         -0.3475, -0.5813, -1.6326, -1.5678, -1.1792,  1.3014,  0.8953,  1.3750]],\n",
            "       device='cuda:0', dtype=torch.float64)\n",
            "Outputted file to ./results/butterfly/gen_images/0004_stylegan3-r_ffhqu256/z_to_img2.jpg\n"
          ]
        }
      ]
    },
    {
      "cell_type": "markdown",
      "source": [
        "## Selection"
      ],
      "metadata": {
        "id": "LHsHlJHI7viM"
      }
    },
    {
      "cell_type": "markdown",
      "source": [
        "## Refinement"
      ],
      "metadata": {
        "id": "WilXQgAn7_-x"
      }
    }
  ],
  "metadata": {
    "interpreter": {
      "hash": "a8b6964c4b11971ada34c31ca3858cac76f4677604ed4191f9e9f62d73997475"
    },
    "kernelspec": {
      "display_name": "Python 3.8.13 ('pytorch2')",
      "language": "python",
      "name": "python3"
    },
    "language_info": {
      "codemirror_mode": {
        "name": "ipython",
        "version": 3
      },
      "file_extension": ".py",
      "mimetype": "text/x-python",
      "name": "python",
      "nbconvert_exporter": "python",
      "pygments_lexer": "ipython3",
      "version": "3.8.13"
    },
    "orig_nbformat": 4,
    "colab": {
      "name": "blend.ipynb",
      "provenance": [],
      "machine_shape": "hm"
    },
    "accelerator": "GPU"
  },
  "nbformat": 4,
  "nbformat_minor": 0
}